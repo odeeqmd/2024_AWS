{
 "cells": [
  {
   "cell_type": "code",
   "execution_count": null,
   "id": "9f35cdc4-7a1e-4e57-96a9-807e41257390",
   "metadata": {},
   "outputs": [],
   "source": [
    "\n",
    "def func("
   ]
  },
  {
   "cell_type": "code",
   "execution_count": null,
   "id": "7a8a899c-a751-4a01-a7d4-456a12726c53",
   "metadata": {},
   "outputs": [],
   "source": [
    "array a = [[],\n",
    "           [],\n",
    "           [],\n",
    "           [],\n",
    "           [],\n",
    "           [],\n",
    "           [],\n",
    "           [],\n",
    "           "
   ]
  }
 ],
 "metadata": {
  "kernelspec": {
   "display_name": "Python 3 [Default]",
   "language": "python",
   "name": "python3"
  },
  "language_info": {
   "codemirror_mode": {
    "name": "ipython",
    "version": 3
   },
   "file_extension": ".py",
   "mimetype": "text/x-python",
   "name": "python",
   "nbconvert_exporter": "python",
   "pygments_lexer": "ipython3",
   "version": "3.11.7"
  }
 },
 "nbformat": 4,
 "nbformat_minor": 5
}
