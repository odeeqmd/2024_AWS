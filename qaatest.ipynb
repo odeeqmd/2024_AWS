{
 "cells": [
  {
   "cell_type": "code",
   "execution_count": 7,
   "id": "9b45ab5d-a2d4-4bf9-b6fe-5bb0084716ef",
   "metadata": {
    "tags": []
   },
   "outputs": [],
   "source": [
    "# general imports\n",
    "import numpy as np\n",
    "import math\n",
    "import matplotlib.pyplot as plt\n",
    "# magic word for producing visualizations in notebook\n",
    "%matplotlib inline"
   ]
  },
  {
   "cell_type": "code",
   "execution_count": 8,
   "id": "d92390f4-bf7b-4976-84d3-4ca1a78d8827",
   "metadata": {
    "tags": []
   },
   "outputs": [],
   "source": [
    "# AWS imports: Import Braket SDK modules\n",
    "from braket.circuits import Circuit, circuit\n",
    "from braket.devices import LocalSimulator\n",
    "from braket.aws import AwsSession, AwsDevice"
   ]
  },
  {
   "cell_type": "code",
   "execution_count": 10,
   "id": "9c47fa72-5aa8-49ef-93a4-836fce52b396",
   "metadata": {
    "tags": []
   },
   "outputs": [
    {
     "name": "stdout",
     "output_type": "stream",
     "text": [
      "['/home/jovyan/2024_AWS', '/opt/conda/envs/py311/lib/python311.zip', '/opt/conda/envs/py311/lib/python3.11', '/opt/conda/envs/py311/lib/python3.11/lib-dynload', '', '/opt/.qbraid/environments/qbraid_000000/pyenv/lib/python3.11/site-packages', '/opt/conda/envs/py311/lib/python3.11/site-packages']\n"
     ]
    }
   ],
   "source": [
    "import sys\n",
    "print(sys.path)"
   ]
  },
  {
   "cell_type": "code",
   "execution_count": 1,
   "id": "3cb7e4fd-f2e2-400a-a366-62d8c72a1b9c",
   "metadata": {
    "tags": []
   },
   "outputs": [
    {
     "ename": "ModuleNotFoundError",
     "evalue": "No module named 'utils_circuit'",
     "output_type": "error",
     "traceback": [
      "\u001b[0;31m---------------------------------------------------------------------------\u001b[0m",
      "\u001b[0;31mModuleNotFoundError\u001b[0m                       Traceback (most recent call last)",
      "Cell \u001b[0;32mIn[1], line 2\u001b[0m\n\u001b[1;32m      1\u001b[0m \u001b[38;5;66;03m# local imports\u001b[39;00m\n\u001b[0;32m----> 2\u001b[0m \u001b[38;5;28;01mimport\u001b[39;00m \u001b[38;5;21;01mutils_circuit\u001b[39;00m\n\u001b[1;32m      3\u001b[0m \u001b[38;5;28;01mfrom\u001b[39;00m \u001b[38;5;21;01mbraket\u001b[39;00m\u001b[38;5;21;01m.\u001b[39;00m\u001b[38;5;21;01mcircuits\u001b[39;00m \u001b[38;5;28;01mimport\u001b[39;00m Circuit, circuit\n\u001b[1;32m      4\u001b[0m \u001b[38;5;28;01mfrom\u001b[39;00m \u001b[38;5;21;01mutils_circuit\u001b[39;00m \u001b[38;5;28;01mimport\u001b[39;00m get_unitary, adjoint\n",
      "\u001b[0;31mModuleNotFoundError\u001b[0m: No module named 'utils_circuit'"
     ]
    }
   ],
   "source": [
    "# local imports\n",
    "import utils_circuit\n",
    "from braket.circuits import Circuit, circuit\n",
    "from utils_circuit import get_unitary, adjoint\n",
    "from utils_qaa import qaa\n",
    "\n",
    "# monkey patch get_unitary() and adjoint() to the Circuit class\n",
    "Circuit.get_unitary = get_unitary\n",
    "Circuit.adjoint = adjoint"
   ]
  },
  {
   "cell_type": "code",
   "execution_count": null,
   "id": "66038b5e-3149-46a5-8d43-263ce1797305",
   "metadata": {},
   "outputs": [],
   "source": []
  }
 ],
 "metadata": {
  "kernelspec": {
   "display_name": "Python 3 [Default]",
   "language": "python",
   "name": "python3"
  },
  "language_info": {
   "codemirror_mode": {
    "name": "ipython",
    "version": 3
   },
   "file_extension": ".py",
   "mimetype": "text/x-python",
   "name": "python",
   "nbconvert_exporter": "python",
   "pygments_lexer": "ipython3",
   "version": "3.11.7"
  }
 },
 "nbformat": 4,
 "nbformat_minor": 5
}
