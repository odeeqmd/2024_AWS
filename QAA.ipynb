{
 "cells": [
  {
   "cell_type": "code",
   "execution_count": 1,
   "id": "9b45ab5d-a2d4-4bf9-b6fe-5bb0084716ef",
   "metadata": {
    "tags": []
   },
   "outputs": [],
   "source": [
    "# general imports\n",
    "import numpy as np\n",
    "import math\n",
    "import matplotlib.pyplot as plt\n",
    "# magic word for producing visualizations in notebook\n",
    "%matplotlib inline\n",
    "from braket.circuits import Circuit, circuit\n",
    "from braket.devices import LocalSimulator\n",
    "from braket.aws import AwsSession, AwsDevice\n"
   ]
  },
  {
   "cell_type": "code",
   "execution_count": 2,
   "id": "d92390f4-bf7b-4976-84d3-4ca1a78d8827",
   "metadata": {
    "tags": []
   },
   "outputs": [
    {
     "ename": "ModuleNotFoundError",
     "evalue": "No module named 'utils_circuit'",
     "output_type": "error",
     "traceback": [
      "\u001b[0;31m---------------------------------------------------------------------------\u001b[0m",
      "\u001b[0;31mModuleNotFoundError\u001b[0m                       Traceback (most recent call last)",
      "Cell \u001b[0;32mIn[2], line 2\u001b[0m\n\u001b[1;32m      1\u001b[0m \u001b[38;5;66;03m# local imports\u001b[39;00m\n\u001b[0;32m----> 2\u001b[0m \u001b[38;5;28;01mfrom\u001b[39;00m \u001b[38;5;21;01mutils_circuit\u001b[39;00m \u001b[38;5;28;01mimport\u001b[39;00m get_unitary, adjoint\n\u001b[1;32m      3\u001b[0m \u001b[38;5;28;01mfrom\u001b[39;00m \u001b[38;5;21;01mutils_qaa\u001b[39;00m \u001b[38;5;28;01mimport\u001b[39;00m qaa\n\u001b[1;32m      5\u001b[0m \u001b[38;5;66;03m# monkey patch get_unitary() and adjoint() to the Circuit class\u001b[39;00m\n",
      "\u001b[0;31mModuleNotFoundError\u001b[0m: No module named 'utils_circuit'"
     ]
    }
   ],
   "source": [
    "# local imports\n",
    "from utils_circuit import get_unitary, adjoint\n",
    "from utils_qaa import qaa\n",
    "\n",
    "# monkey patch get_unitary() and adjoint() to the Circuit class\n",
    "Circuit.get_unitary = get_unitary\n",
    "Circuit.adjoint = adjoint\n",
    "# set up device: Local Schroedinger Simulator\n",
    "device = LocalSimulator()"
   ]
  },
  {
   "cell_type": "code",
   "execution_count": 6,
   "id": "9aa1189d-a836-4357-9486-7065e162b359",
   "metadata": {
    "tags": []
   },
   "outputs": [
    {
     "ename": "NameError",
     "evalue": "name 'circuit' is not defined",
     "output_type": "error",
     "traceback": [
      "\u001b[0;31m---------------------------------------------------------------------------\u001b[0m",
      "\u001b[0;31mNameError\u001b[0m                                 Traceback (most recent call last)",
      "Cell \u001b[0;32mIn[6], line 2\u001b[0m\n\u001b[1;32m      1\u001b[0m \u001b[38;5;66;03m# helper function to apply XZX to given qubit\u001b[39;00m\n\u001b[0;32m----> 2\u001b[0m \u001b[38;5;129m@circuit\u001b[39m\u001b[38;5;241m.\u001b[39msubroutine(register\u001b[38;5;241m=\u001b[39m\u001b[38;5;28;01mTrue\u001b[39;00m)\n\u001b[1;32m      3\u001b[0m \u001b[38;5;28;01mdef\u001b[39;00m \u001b[38;5;21mminus_R_B\u001b[39m(qubit):\n\u001b[1;32m      4\u001b[0m \u001b[38;5;250m    \u001b[39m\u001b[38;5;124;03m\"\"\"\u001b[39;00m\n\u001b[1;32m      5\u001b[0m \u001b[38;5;124;03m    Function to apply a minus sign to |B>|0>. This goal is achieved by applying XZX to the ancilla qubit.\u001b[39;00m\n\u001b[1;32m      6\u001b[0m \n\u001b[1;32m      7\u001b[0m \u001b[38;5;124;03m    Args:\u001b[39;00m\n\u001b[1;32m      8\u001b[0m \u001b[38;5;124;03m        qubit: the ancilla qubit on which we apply XZX.\u001b[39;00m\n\u001b[1;32m      9\u001b[0m \u001b[38;5;124;03m    \"\"\"\u001b[39;00m\n\u001b[1;32m     10\u001b[0m     \u001b[38;5;66;03m# instantiate circuit object\u001b[39;00m\n",
      "\u001b[0;31mNameError\u001b[0m: name 'circuit' is not defined"
     ]
    }
   ],
   "source": [
    "# helper function to apply XZX to given qubit\n",
    "@circuit.subroutine(register=True)\n",
    "def minus_R_B(qubit):\n",
    "    \"\"\"\n",
    "    Function to apply a minus sign to |B>|0>. This goal is achieved by applying XZX to the ancilla qubit.\n",
    "\n",
    "    Args:\n",
    "        qubit: the ancilla qubit on which we apply XZX.\n",
    "    \"\"\"\n",
    "    # instantiate circuit object\n",
    "    circ = Circuit()\n",
    "\n",
    "    # Apply sequence XZX to given qubit\n",
    "    circ.x(qubit).z(qubit).x(qubit)\n",
    "\n",
    "    return circ"
   ]
  },
  {
   "cell_type": "code",
   "execution_count": 3,
   "id": "30ddc5a0-5d7b-44a3-909c-755713bc9a05",
   "metadata": {
    "tags": []
   },
   "outputs": [
    {
     "ename": "NameError",
     "evalue": "name 'circuit' is not defined",
     "output_type": "error",
     "traceback": [
      "\u001b[0;31m---------------------------------------------------------------------------\u001b[0m",
      "\u001b[0;31mNameError\u001b[0m                                 Traceback (most recent call last)",
      "Cell \u001b[0;32mIn[3], line 2\u001b[0m\n\u001b[1;32m      1\u001b[0m \u001b[38;5;66;03m# Helper function to apply rotation -R0\u001b[39;00m\n\u001b[0;32m----> 2\u001b[0m \u001b[38;5;129m@circuit\u001b[39m\u001b[38;5;241m.\u001b[39msubroutine(register\u001b[38;5;241m=\u001b[39m\u001b[38;5;28;01mTrue\u001b[39;00m)\n\u001b[1;32m      3\u001b[0m \u001b[38;5;28;01mdef\u001b[39;00m \u001b[38;5;21mminus_R_zero\u001b[39m(qubits, use_explicit_unitary\u001b[38;5;241m=\u001b[39m\u001b[38;5;28;01mFalse\u001b[39;00m):\n\u001b[1;32m      4\u001b[0m \u001b[38;5;250m    \u001b[39m\u001b[38;5;124;03m\"\"\"\u001b[39;00m\n\u001b[1;32m      5\u001b[0m \u001b[38;5;124;03m    Function to implement transformation: |0,0,...0> -> -|0,0,...0>, all others unchanged. \u001b[39;00m\n\u001b[1;32m      6\u001b[0m \n\u001b[0;32m   (...)\u001b[0m\n\u001b[1;32m     10\u001b[0m \u001b[38;5;124;03m        the desired gate using a custom gate defined by the unitary diag(-1,1,...,1).\u001b[39;00m\n\u001b[1;32m     11\u001b[0m \u001b[38;5;124;03m    \"\"\"\u001b[39;00m\n\u001b[1;32m     13\u001b[0m     circ \u001b[38;5;241m=\u001b[39m Circuit()\n",
      "\u001b[0;31mNameError\u001b[0m: name 'circuit' is not defined"
     ]
    }
   ],
   "source": [
    "# Helper function to apply rotation -R0\n",
    "@circuit.subroutine(register=True)\n",
    "def minus_R_zero(qubits, use_explicit_unitary=False):\n",
    "    \"\"\"\n",
    "    Function to implement transformation: |0,0,...0> -> -|0,0,...0>, all others unchanged. \n",
    "\n",
    "    Args:\n",
    "        qubits: list of qubits on which to apply the gates\n",
    "        use_explicit_unitary (default False): Flag to specify that we could instead implement\n",
    "        the desired gate using a custom gate defined by the unitary diag(-1,1,...,1).\n",
    "    \"\"\"\n",
    "\n",
    "    circ = Circuit()\n",
    "\n",
    "    # If the use_explicit_matrix flag is True, we just apply the unitary defined by |0,0,...0> -> -|0,0,...0>\n",
    "    if use_explicit_unitary:\n",
    "        # Create the matrix diag(-1,1,1,...,1)\n",
    "        unitary = np.eye(2**len(qubits))\n",
    "        unitary[0][0]=-1\n",
    "        # Add a gate defined by this matrix\n",
    "        circ.unitary(matrix=unitary, targets=qubits)\n",
    "\n",
    "    # Otherwise implement the unitary using ancilla qubits:\n",
    "    else:\n",
    "        # Flip all qubits. We now must check whether all qubits are |1>, rather than |0>.\n",
    "        circ.x(qubits)\n",
    "\n",
    "        # If we have only 1 qubit, we only must apply XZX to that qubit to pick up a minus sign on |0>\n",
    "        if len(qubits) < 2:\n",
    "            circ.z(qubits)\n",
    "\n",
    "        # For more qubits, we use Toffoli (or CCNOT) gates to verify the qubits are in |1> (after applying X)\n",
    "        else:\n",
    "\n",
    "            # Dynamically add ancilla qubits, starting on the next unused qubit in the circuit\n",
    "            # NOTE: if this subroutine is being applied to a subset of qubits in a circuit, these ancilla\n",
    "            # registers may already be used. We could pass in circ as an argument and add ancillas outside of\n",
    "            # circ.targets instead, if desired.\n",
    "            ancilla_start = max(qubits) + 1\n",
    "\n",
    "            # Check that the first two register qubits are both 1's using a CCNOT on a new ancilla qubit.\n",
    "            circ.ccnot(qubits[0],qubits[1],ancilla_start)\n",
    "\n",
    "            # Now add a CCNOT from each of the next register qubits, comparing with the ancilla we just added.\n",
    "            # Target on a new ancilla. If len(qubits) is 2, this does not execute.\n",
    "            for ii,qubit in enumerate(qubits[2:]):\n",
    "                circ.ccnot(qubit,ancilla_start+ii, ancilla_start+ii+1)\n",
    "\n",
    "            # A Z gate applied to the last ancilla qubit gives a minus sign if all register qubits are |1>\n",
    "            ancilla_end = ancilla_start + len(qubits[2:])\n",
    "            circ.z(ancilla_end)\n",
    "\n",
    "            # Now uncompute to disentangle the ancilla qubits by applying CCNOTs in the reverse order to the previous.\n",
    "            for jj,qubit in enumerate(reversed(qubits[2:])):\n",
    "                circ.ccnot(qubit,ancilla_end-jj-1, ancilla_end-jj)\n",
    "\n",
    "            # Finally undo the last CCNOT on the first two register qubits.\n",
    "            circ.ccnot(qubits[0],qubits[1],ancilla_start)\n",
    "\n",
    "        # Flip all qubits back\n",
    "        circ.x(qubits)\n",
    "\n",
    "    return circ"
   ]
  },
  {
   "cell_type": "code",
   "execution_count": 4,
   "id": "0a1727a7-98a4-48d0-969f-ef6107b1cf48",
   "metadata": {
    "tags": []
   },
   "outputs": [
    {
     "ename": "NameError",
     "evalue": "name 'Circuit' is not defined",
     "output_type": "error",
     "traceback": [
      "\u001b[0;31m---------------------------------------------------------------------------\u001b[0m",
      "\u001b[0;31mNameError\u001b[0m                                 Traceback (most recent call last)",
      "Cell \u001b[0;32mIn[4], line 2\u001b[0m\n\u001b[1;32m      1\u001b[0m qubits \u001b[38;5;241m=\u001b[39m [\u001b[38;5;241m0\u001b[39m,\u001b[38;5;241m1\u001b[39m,\u001b[38;5;241m2\u001b[39m,\u001b[38;5;241m3\u001b[39m]\n\u001b[0;32m----> 2\u001b[0m circ \u001b[38;5;241m=\u001b[39m \u001b[43mCircuit\u001b[49m()\n\u001b[1;32m      3\u001b[0m circ\u001b[38;5;241m.\u001b[39mminus_R_zero(qubits)\n\u001b[1;32m      4\u001b[0m \u001b[38;5;28mprint\u001b[39m(circ)\n",
      "\u001b[0;31mNameError\u001b[0m: name 'Circuit' is not defined"
     ]
    }
   ],
   "source": [
    "qubits = [0,1,2,3]\n",
    "circ = Circuit()\n",
    "circ.minus_R_zero(qubits)\n",
    "print(circ)"
   ]
  },
  {
   "cell_type": "code",
   "execution_count": null,
   "id": "670aae74-b8cb-4686-9b5f-22c1a4fc45ec",
   "metadata": {},
   "outputs": [],
   "source": []
  }
 ],
 "metadata": {
  "kernelspec": {
   "display_name": "Python 3 [Braket]",
   "language": "python",
   "name": "python3_aws_braket_kwx6dl"
  },
  "language_info": {
   "codemirror_mode": {
    "name": "ipython",
    "version": 3
   },
   "file_extension": ".py",
   "mimetype": "text/x-python",
   "name": "python",
   "nbconvert_exporter": "python",
   "pygments_lexer": "ipython3",
   "version": "3.9.18"
  }
 },
 "nbformat": 4,
 "nbformat_minor": 5
}
