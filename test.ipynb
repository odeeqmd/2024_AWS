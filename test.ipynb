{
 "cells": [
  {
   "cell_type": "code",
   "execution_count": 1,
   "id": "9b45ab5d-a2d4-4bf9-b6fe-5bb0084716ef",
   "metadata": {
    "tags": []
   },
   "outputs": [],
   "source": [
    "#testing testing\n"
   ]
  },
  {
   "cell_type": "code",
   "execution_count": null,
   "id": "d92390f4-bf7b-4976-84d3-4ca1a78d8827",
   "metadata": {},
   "outputs": [],
   "source": []
  }
 ],
 "metadata": {
  "kernelspec": {
   "display_name": "Python 3 [Default]",
   "language": "python",
   "name": "python3"
  },
  "language_info": {
   "codemirror_mode": {
    "name": "ipython",
    "version": 3
   },
   "file_extension": ".py",
   "mimetype": "text/x-python",
   "name": "python",
   "nbconvert_exporter": "python",
   "pygments_lexer": "ipython3",
   "version": "3.11.7"
  }
 },
 "nbformat": 4,
 "nbformat_minor": 5
}
